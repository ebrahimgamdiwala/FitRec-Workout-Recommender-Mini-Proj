{
 "cells": [
  {
   "cell_type": "markdown",
   "metadata": {
    "_cell_guid": "b1076dfc-b9ad-4769-8c92-a6c4dae69d19",
    "_uuid": "8f2839f25d086af736a60e9eeb907d3b93b6e0e5"
   },
   "source": [
    "# 🧱 Environment Setup & Data Loading"
   ]
  },
  {
   "cell_type": "code",
   "execution_count": 1,
   "metadata": {},
   "outputs": [
    {
     "name": "stderr",
     "output_type": "stream",
     "text": [
      "c:\\Users\\durvi\\OneDrive\\Documents\\SEM5\\rs\\Exps\\miniproj\\FitRec-Workout-Recommender-Mini-Proj\\venv\\Lib\\site-packages\\tqdm\\auto.py:21: TqdmWarning: IProgress not found. Please update jupyter and ipywidgets. See https://ipywidgets.readthedocs.io/en/stable/user_install.html\n",
      "  from .autonotebook import tqdm as notebook_tqdm\n"
     ]
    }
   ],
   "source": [
    "import pandas as pd\n",
    "import numpy as np\n",
    "import warnings\n",
    "from IPython.display import display, Markdown\n",
    "warnings.filterwarnings('ignore', category=pd.errors.PerformanceWarning)\n",
    "import os\n",
    "import re\n",
    "import ast\n",
    "from sklearn.preprocessing import LabelEncoder, MinMaxScaler, OneHotEncoder\n",
    "from sentence_transformers import SentenceTransformer\n",
    "import torch\n",
    "from sklearn.cluster import KMeans\n",
    "from sklearn.decomposition import PCA\n",
    "import matplotlib.pyplot as plt\n",
    "import seaborn as sns\n",
    "from sklearn.impute import SimpleImputer\n",
    "from sklearn.metrics.pairwise import cosine_similarity\n",
    "import random # For cluster sampling"
   ]
  },
  {
   "cell_type": "code",
   "execution_count": 2,
   "metadata": {
    "execution": {
     "iopub.execute_input": "2025-07-27T13:31:25.787248Z",
     "iopub.status.busy": "2025-07-27T13:31:25.787012Z",
     "iopub.status.idle": "2025-07-27T13:31:34.271805Z",
     "shell.execute_reply": "2025-07-27T13:31:34.271149Z",
     "shell.execute_reply.started": "2025-07-27T13:31:25.787226Z"
    },
    "trusted": true
   },
   "outputs": [
    {
     "name": "stderr",
     "output_type": "stream",
     "text": [
      "<>:1: SyntaxWarning: invalid escape sequence '\\d'\n",
      "<>:2: SyntaxWarning: invalid escape sequence '\\d'\n",
      "<>:1: SyntaxWarning: invalid escape sequence '\\d'\n",
      "<>:2: SyntaxWarning: invalid escape sequence '\\d'\n",
      "C:\\Users\\durvi\\AppData\\Local\\Temp\\ipykernel_193888\\3208000834.py:1: SyntaxWarning: invalid escape sequence '\\d'\n",
      "  ex_df_orig = pd.read_csv('..\\datasets\\programs_detailed_boostcamp_kaggle.csv')\n",
      "C:\\Users\\durvi\\AppData\\Local\\Temp\\ipykernel_193888\\3208000834.py:2: SyntaxWarning: invalid escape sequence '\\d'\n",
      "  prog_df = pd.read_csv('..\\datasets\\program_summary.csv')\n"
     ]
    },
    {
     "name": "stdout",
     "output_type": "stream",
     "text": [
      "Original Exercises shape: (605033, 16)\n",
      "Programs Summary shape: (2598, 10)\n",
      "\n",
      "Original Exercise Columns: ['title', 'description', 'level', 'goal', 'equipment', 'program_length', 'time_per_workout', 'week', 'day', 'number_of_exercises', 'exercise_name', 'sets', 'reps', 'intensity', 'created', 'last_edit']\n",
      "\n",
      "Program Summary Columns: ['title', 'description', 'level', 'goal', 'equipment', 'program_length', 'time_per_workout', 'total_exercises', 'created', 'last_edit']\n"
     ]
    }
   ],
   "source": [
    "ex_df_orig = pd.read_csv('..\\datasets\\programs_detailed_boostcamp_kaggle.csv')\n",
    "prog_df = pd.read_csv('..\\datasets\\program_summary.csv')\n",
    "\n",
    "# --- Initial Data Cleaning (prog_df for embedding approach) ---\n",
    "if 'Unnamed: 0' in prog_df.columns:\n",
    "    prog_df = prog_df.drop(columns=['Unnamed: 0'])\n",
    "if 'Unnamed: 0' in ex_df_orig.columns:\n",
    "    ex_df_orig = ex_df_orig.drop(columns=['Unnamed: 0'])\n",
    "\n",
    "print('Original Exercises shape:', ex_df_orig.shape)\n",
    "print('Programs Summary shape:', prog_df.shape)\n",
    "print(\"\\nOriginal Exercise Columns:\", ex_df_orig.columns.tolist())\n",
    "print(\"\\nProgram Summary Columns:\", prog_df.columns.tolist())"
   ]
  },
  {
   "cell_type": "markdown",
   "metadata": {},
   "source": [
    "# 📊 Exploratory Data Analysis (EDA) & Preprocessing\n",
    "We’ll explore distributions, missing values, and prepare key fields for modeling.\n",
    "\n",
    "We’re building a personalized program recommender using:\n",
    "\n",
    "1. Metadata features: goal, level, equipment, program_length, etc.\n",
    "\n",
    "2. Text fields: title, description, exercise_name\n",
    "\n",
    "3. Personalization layer: modeled via user history, i.e., users who interacted with similar programs"
   ]
  },
  {
   "cell_type": "markdown",
   "metadata": {},
   "source": [
    "# 🧼 Cleaning Metadata and Text"
   ]
  },
  {
   "cell_type": "code",
   "execution_count": 3,
   "metadata": {
    "execution": {
     "iopub.execute_input": "2025-07-27T13:31:34.273609Z",
     "iopub.status.busy": "2025-07-27T13:31:34.273401Z",
     "iopub.status.idle": "2025-07-27T13:31:36.765960Z",
     "shell.execute_reply": "2025-07-27T13:31:36.765180Z",
     "shell.execute_reply.started": "2025-07-27T13:31:34.273593Z"
    },
    "trusted": true
   },
   "outputs": [
    {
     "name": "stderr",
     "output_type": "stream",
     "text": [
      "C:\\Users\\durvi\\AppData\\Local\\Temp\\ipykernel_193888\\1080143011.py:3: FutureWarning: A value is trying to be set on a copy of a DataFrame or Series through chained assignment using an inplace method.\n",
      "The behavior will change in pandas 3.0. This inplace method will never work because the intermediate object on which we are setting values always behaves as a copy.\n",
      "\n",
      "For example, when doing 'df[col].method(value, inplace=True)', try using 'df.method({col: value}, inplace=True)' or df[col] = df[col].method(value) instead, to perform the operation inplace on the original object.\n",
      "\n",
      "\n",
      "  prog_df['program_length'].fillna(prog_df['program_length'].median(), inplace=True)\n",
      "C:\\Users\\durvi\\AppData\\Local\\Temp\\ipykernel_193888\\1080143011.py:4: FutureWarning: A value is trying to be set on a copy of a DataFrame or Series through chained assignment using an inplace method.\n",
      "The behavior will change in pandas 3.0. This inplace method will never work because the intermediate object on which we are setting values always behaves as a copy.\n",
      "\n",
      "For example, when doing 'df[col].method(value, inplace=True)', try using 'df.method({col: value}, inplace=True)' or df[col] = df[col].method(value) instead, to perform the operation inplace on the original object.\n",
      "\n",
      "\n",
      "  prog_df['time_per_workout'].fillna(prog_df['time_per_workout'].median(), inplace=True)\n"
     ]
    },
    {
     "name": "stdout",
     "output_type": "stream",
     "text": [
      "\n",
      "--- Sample Processed Summary Data ---\n"
     ]
    },
    {
     "data": {
      "text/html": [
       "<div>\n",
       "<style scoped>\n",
       "    .dataframe tbody tr th:only-of-type {\n",
       "        vertical-align: middle;\n",
       "    }\n",
       "\n",
       "    .dataframe tbody tr th {\n",
       "        vertical-align: top;\n",
       "    }\n",
       "\n",
       "    .dataframe thead th {\n",
       "        text-align: right;\n",
       "    }\n",
       "</style>\n",
       "<table border=\"1\" class=\"dataframe\">\n",
       "  <thead>\n",
       "    <tr style=\"text-align: right;\">\n",
       "      <th></th>\n",
       "      <th>title</th>\n",
       "      <th>goal</th>\n",
       "      <th>level</th>\n",
       "      <th>equipment</th>\n",
       "      <th>program_length_orig</th>\n",
       "      <th>time_per_workout_orig</th>\n",
       "      <th>text_input</th>\n",
       "    </tr>\n",
       "  </thead>\n",
       "  <tbody>\n",
       "    <tr>\n",
       "      <th>0</th>\n",
       "      <td>(MASS MONSTER) High Intensity 4 Day Upper Lowe...</td>\n",
       "      <td>['muscle &amp; sculpting', 'bodyweight fitness']</td>\n",
       "      <td>['intermediate']</td>\n",
       "      <td>full gym</td>\n",
       "      <td>12.0</td>\n",
       "      <td>90.0</td>\n",
       "      <td>mass monster high intensity 4 day upper lower ...</td>\n",
       "    </tr>\n",
       "    <tr>\n",
       "      <th>1</th>\n",
       "      <td>(NOT MY PROGRAM)SHJ Jotaro</td>\n",
       "      <td>['bodybuilding']</td>\n",
       "      <td>['advanced', 'intermediate']</td>\n",
       "      <td>full gym</td>\n",
       "      <td>8.0</td>\n",
       "      <td>60.0</td>\n",
       "      <td>not my programshj jotaro build strength and si...</td>\n",
       "    </tr>\n",
       "    <tr>\n",
       "      <th>2</th>\n",
       "      <td>1 PowerLift Per Day Powerbuilding 5 Day Bro Split</td>\n",
       "      <td>['athletics', 'powerlifting', 'powerbuilding']</td>\n",
       "      <td>['beginner', 'novice', 'intermediate']</td>\n",
       "      <td>full gym</td>\n",
       "      <td>6.0</td>\n",
       "      <td>90.0</td>\n",
       "      <td>1 powerlift per day powerbuilding 5 day bro sp...</td>\n",
       "    </tr>\n",
       "  </tbody>\n",
       "</table>\n",
       "</div>"
      ],
      "text/plain": [
       "                                               title  \\\n",
       "0  (MASS MONSTER) High Intensity 4 Day Upper Lowe...   \n",
       "1                         (NOT MY PROGRAM)SHJ Jotaro   \n",
       "2  1 PowerLift Per Day Powerbuilding 5 Day Bro Split   \n",
       "\n",
       "                                             goal  \\\n",
       "0    ['muscle & sculpting', 'bodyweight fitness']   \n",
       "1                                ['bodybuilding']   \n",
       "2  ['athletics', 'powerlifting', 'powerbuilding']   \n",
       "\n",
       "                                    level equipment  program_length_orig  \\\n",
       "0                        ['intermediate']  full gym                 12.0   \n",
       "1            ['advanced', 'intermediate']  full gym                  8.0   \n",
       "2  ['beginner', 'novice', 'intermediate']  full gym                  6.0   \n",
       "\n",
       "   time_per_workout_orig                                         text_input  \n",
       "0                   90.0  mass monster high intensity 4 day upper lower ...  \n",
       "1                   60.0  not my programshj jotaro build strength and si...  \n",
       "2                   90.0  1 powerlift per day powerbuilding 5 day bro sp...  "
      ]
     },
     "metadata": {},
     "output_type": "display_data"
    }
   ],
   "source": [
    "prog_df['program_length_orig'] = prog_df['program_length']\n",
    "prog_df['time_per_workout_orig'] = prog_df['time_per_workout']\n",
    "prog_df['program_length'].fillna(prog_df['program_length'].median(), inplace=True)\n",
    "prog_df['time_per_workout'].fillna(prog_df['time_per_workout'].median(), inplace=True)\n",
    "scaler = MinMaxScaler()\n",
    "prog_df[['program_length', 'time_per_workout']] = scaler.fit_transform(prog_df[['program_length', 'time_per_workout']])\n",
    "label_encoders = {}\n",
    "for col in ['goal', 'level', 'equipment']:\n",
    "    prog_df[col] = prog_df[col].fillna('unknown').str.lower().str.strip()\n",
    "    le = LabelEncoder()\n",
    "    prog_df[col + '_enc'] = le.fit_transform(prog_df[col])\n",
    "    label_encoders[col] = le\n",
    "def clean_text(text):\n",
    "    if pd.isna(text): return ''\n",
    "    text = str(text).lower()\n",
    "    text = re.sub(r'<.*?>', '', text)\n",
    "    text = re.sub(r'[^a-zA-Z0-9\\s]', '', text)\n",
    "    return text.strip()\n",
    "prog_df['title_cleaned'] = prog_df['title'].astype(str).apply(clean_text)\n",
    "prog_df['description_cleaned'] = prog_df['description'].astype(str).apply(clean_text)\n",
    "ex_df_orig['exercise_name'] = ex_df_orig['exercise_name'].astype(str) # Clean original ex_df as well\n",
    "top_exercises = (ex_df_orig.groupby('title')['exercise_name']\n",
    "                 .apply(lambda x: ' '.join(x.dropna().astype(str).str.lower().str.replace(r'[^a-zA-Z0-9\\s]', '', regex=True).unique()[:5])))\n",
    "prog_df = prog_df.merge(top_exercises.rename('common_exercises'), on='title', how='left')\n",
    "prog_df['common_exercises'] = prog_df['common_exercises'].fillna('')\n",
    "prog_df['text_input'] = (\n",
    "    prog_df['title_cleaned'] + ' ' +\n",
    "    prog_df['description_cleaned'] + ' ' +\n",
    "    prog_df['common_exercises']\n",
    ")\n",
    "print(\"\\n--- Sample Processed Summary Data ---\")\n",
    "display(prog_df[['title', 'goal', 'level', 'equipment', 'program_length_orig', 'time_per_workout_orig', 'text_input']].head(3))"
   ]
  },
  {
   "cell_type": "markdown",
   "metadata": {},
   "source": [
    "# 🧠 Feature Engineering (Text Embeddings + Metadata Encoding)\n",
    "* Encode goal, level, and equipment using LabelEncoder\n",
    "\n",
    "* Generate dense text embeddings using a SentenceTransformer model (e.g. all-MiniLM-L6-v2)\n",
    "\n",
    "* Concatenate metadata and text embeddings into a final feature vector per program"
   ]
  },
  {
   "cell_type": "code",
   "execution_count": 4,
   "metadata": {
    "_kg_hide-input": false,
    "_kg_hide-output": true,
    "collapsed": true,
    "execution": {
     "iopub.execute_input": "2025-07-27T13:31:36.767307Z",
     "iopub.status.busy": "2025-07-27T13:31:36.766893Z",
     "iopub.status.idle": "2025-07-27T13:32:17.950999Z",
     "shell.execute_reply": "2025-07-27T13:32:17.950332Z",
     "shell.execute_reply.started": "2025-07-27T13:31:36.767279Z"
    },
    "jupyter": {
     "outputs_hidden": true
    },
    "trusted": true
   },
   "outputs": [
    {
     "name": "stdout",
     "output_type": "stream",
     "text": [
      "Using device: cpu\n"
     ]
    },
    {
     "name": "stderr",
     "output_type": "stream",
     "text": [
      "c:\\Users\\durvi\\OneDrive\\Documents\\SEM5\\rs\\Exps\\miniproj\\FitRec-Workout-Recommender-Mini-Proj\\venv\\Lib\\site-packages\\huggingface_hub\\file_download.py:143: UserWarning: `huggingface_hub` cache-system uses symlinks by default to efficiently store duplicated files but your machine does not support them in C:\\Users\\durvi\\.cache\\huggingface\\hub\\models--sentence-transformers--all-MiniLM-L6-v2. Caching files will still work but in a degraded version that might require more space on your disk. This warning can be disabled by setting the `HF_HUB_DISABLE_SYMLINKS_WARNING` environment variable. For more details, see https://huggingface.co/docs/huggingface_hub/how-to-cache#limitations.\n",
      "To support symlinks on Windows, you either need to activate Developer Mode or to run Python as an administrator. In order to activate developer mode, see this article: https://docs.microsoft.com/en-us/windows/apps/get-started/enable-your-device-for-development\n",
      "  warnings.warn(message)\n",
      "Xet Storage is enabled for this repo, but the 'hf_xet' package is not installed. Falling back to regular HTTP download. For better performance, install the package with: `pip install huggingface_hub[hf_xet]` or `pip install hf_xet`\n"
     ]
    },
    {
     "name": "stdout",
     "output_type": "stream",
     "text": [
      "Generating embeddings for 2598 programs in 41 batches...\n",
      "Processed batch 1/41\n",
      "Processed batch 2/41\n",
      "Processed batch 3/41\n",
      "Processed batch 4/41\n",
      "Processed batch 5/41\n",
      "Processed batch 6/41\n",
      "Processed batch 7/41\n",
      "Processed batch 8/41\n",
      "Processed batch 9/41\n",
      "Processed batch 10/41\n",
      "Processed batch 11/41\n",
      "Processed batch 12/41\n",
      "Processed batch 13/41\n",
      "Processed batch 14/41\n",
      "Processed batch 15/41\n",
      "Processed batch 16/41\n",
      "Processed batch 17/41\n",
      "Processed batch 18/41\n",
      "Processed batch 19/41\n",
      "Processed batch 20/41\n",
      "Processed batch 21/41\n",
      "Processed batch 22/41\n",
      "Processed batch 23/41\n",
      "Processed batch 24/41\n",
      "Processed batch 25/41\n",
      "Processed batch 26/41\n",
      "Processed batch 27/41\n",
      "Processed batch 28/41\n",
      "Processed batch 29/41\n",
      "Processed batch 30/41\n",
      "Processed batch 31/41\n",
      "Processed batch 32/41\n",
      "Processed batch 33/41\n",
      "Processed batch 34/41\n",
      "Processed batch 35/41\n",
      "Processed batch 36/41\n",
      "Processed batch 37/41\n",
      "Processed batch 38/41\n",
      "Processed batch 39/41\n",
      "Processed batch 40/41\n",
      "Processed batch 41/41\n",
      "\n",
      "Feature matrix shape (Embeddings + Metadata): (2598, 389)\n"
     ]
    }
   ],
   "source": [
    "device = 'cuda' if torch.cuda.is_available() else 'cpu'\n",
    "print(f\"Using device: {device}\")\n",
    "try:\n",
    "    model = SentenceTransformer('all-MiniLM-L6-v2', device=device)\n",
    "except Exception as e:\n",
    "    print(f\"Error loading SentenceTransformer model: {e}\")\n",
    "    raise e\n",
    "batch_texts = prog_df['text_input'].tolist()\n",
    "batch_size = 64\n",
    "text_embeddings = []\n",
    "num_batches = (len(batch_texts) + batch_size - 1) // batch_size\n",
    "print(f\"Generating embeddings for {len(batch_texts)} programs in {num_batches} batches...\")\n",
    "for i in range(0, len(batch_texts), batch_size):\n",
    "    batch = batch_texts[i:i + batch_size]\n",
    "    emb = model.encode(batch, show_progress_bar=False)\n",
    "    text_embeddings.append(emb)\n",
    "    print(f\"Processed batch {i//batch_size + 1}/{num_batches}\")\n",
    "text_embeddings = np.vstack(text_embeddings)\n",
    "embedding_cols = [f'emb_{i}' for i in range(text_embeddings.shape[1])]\n",
    "embedding_df = pd.DataFrame(text_embeddings, columns=embedding_cols, index=prog_df.index)\n",
    "prog_df = pd.concat([prog_df, embedding_df], axis=1)\n",
    "metadata_cols = ['goal_enc', 'level_enc', 'equipment_enc', 'program_length', 'time_per_workout']\n",
    "all_features_cols = metadata_cols + embedding_cols\n",
    "features_clean = prog_df[all_features_cols].fillna(0).values\n",
    "print(\"\\nFeature matrix shape (Embeddings + Metadata):\", features_clean.shape)"
   ]
  },
  {
   "cell_type": "markdown",
   "metadata": {},
   "source": [
    "# 👥 KMeans Clustering for User Interest Simulation\n",
    "We’ll:\n",
    "\n",
    "1. Fit KMeans on the 389-dimensional feature matrix\n",
    "\n",
    "2. Assign each program a cluster_id\n",
    "\n",
    "3. Simulate users by assuming each cluster represents a set of preferences"
   ]
  },
  {
   "cell_type": "code",
   "execution_count": 5,
   "metadata": {
    "execution": {
     "iopub.execute_input": "2025-07-27T13:32:17.952201Z",
     "iopub.status.busy": "2025-07-27T13:32:17.951919Z",
     "iopub.status.idle": "2025-07-27T13:32:19.137909Z",
     "shell.execute_reply": "2025-07-27T13:32:19.137152Z",
     "shell.execute_reply.started": "2025-07-27T13:32:17.952181Z"
    },
    "trusted": true
   },
   "outputs": [
    {
     "name": "stdout",
     "output_type": "stream",
     "text": [
      "\n",
      "Running KMeans with 25 clusters (Embeddings + Metadata)...\n",
      "KMeans clustering (Embeddings + Metadata) complete.\n",
      "Running PCA for visualization...\n",
      "PCA complete.\n"
     ]
    },
    {
     "data": {
      "image/png": "[encoded data removed]",
      "text/plain": [
       "<Figure size 1000x600 with 1 Axes>"
      ]
     },
     "metadata": {},
     "output_type": "display_data"
    }
   ],
   "source": [
    "NUM_CLUSTERS_EMBED = 25\n",
    "print(f\"\\nRunning KMeans with {NUM_CLUSTERS_EMBED} clusters (Embeddings + Metadata)...\")\n",
    "kmeans_embed = KMeans(n_clusters=NUM_CLUSTERS_EMBED, random_state=42, n_init='auto')\n",
    "prog_df['cluster_id_embed'] = kmeans_embed.fit_predict(features_clean)\n",
    "print(\"KMeans clustering (Embeddings + Metadata) complete.\")\n",
    "print(\"Running PCA for visualization...\")\n",
    "pca_embed = PCA(n_components=2)\n",
    "proj_embed = pca_embed.fit_transform(features_clean)\n",
    "prog_df['pca1_embed'], prog_df['pca2_embed'] = proj_embed[:, 0], proj_embed[:, 1]\n",
    "print(\"PCA complete.\")\n",
    "plt.figure(figsize=(10, 6))\n",
    "sns.scatterplot(data=prog_df, x='pca1_embed', y='pca2_embed', hue='cluster_id_embed', palette='tab20', legend=False, s=10)\n",
    "plt.title('Program Clusters via KMeans (Embeddings + Metadata) + PCA')\n",
    "plt.xlabel('PCA Component 1')\n",
    "plt.ylabel('PCA Component 2')\n",
    "plt.show()"
   ]
  },
  {
   "cell_type": "markdown",
   "metadata": {},
   "source": [
    "# 🔁 Step 4: Recommendation Engine Setup (Based on Embeddings + Metadata)"
   ]
  },
  {
   "cell_type": "code",
   "execution_count": 6,
   "metadata": {
    "execution": {
     "iopub.execute_input": "2025-07-27T13:32:19.139931Z",
     "iopub.status.busy": "2025-07-27T13:32:19.138754Z",
     "iopub.status.idle": "2025-07-27T13:32:19.231811Z",
     "shell.execute_reply": "2025-07-27T13:32:19.231238Z",
     "shell.execute_reply.started": "2025-07-27T13:32:19.139900Z"
    },
    "trusted": true
   },
   "outputs": [
    {
     "name": "stdout",
     "output_type": "stream",
     "text": [
      "\n",
      "Calculating similarity matrix (Embeddings + Metadata)...\n",
      "Similarity matrix calculated.\n"
     ]
    }
   ],
   "source": [
    "print(\"\\nCalculating similarity matrix (Embeddings + Metadata)...\")\n",
    "similarity_matrix_embed = cosine_similarity(features_clean)\n",
    "print(\"Similarity matrix calculated.\")"
   ]
  },
  {
   "cell_type": "markdown",
   "metadata": {},
   "source": [
    "# 🎯 Step 5: Interactive Recommendations (Based on Metadata Clustering - User Input Report Style)"
   ]
  },
  {
   "cell_type": "code",
   "execution_count": 7,
   "metadata": {},
   "outputs": [
    {
     "name": "stdout",
     "output_type": "stream",
     "text": [
      "Building the metadata-only clustering model...\n",
      "Metadata-only clustering model built successfully.\n",
      "\n",
      "--- Get User Preferences for Metadata Cluster Recommendations ---\n",
      "\n",
      "Available Goals:\n",
      "1. []\n",
      "2. Athletics\n",
      "3. Bodybuilding\n",
      "4. Bodyweight fitness\n",
      "5. Muscle & sculpting\n",
      "6. Olympic weightlifting\n",
      "7. Powerbuilding\n",
      "8. Powerlifting\n"
     ]
    },
    {
     "name": "stderr",
     "output_type": "stream",
     "text": [
      "C:\\Users\\durvi\\AppData\\Local\\Temp\\ipykernel_193888\\3907714884.py:62: FutureWarning: A value is trying to be set on a copy of a DataFrame or Series through chained assignment using an inplace method.\n",
      "The behavior will change in pandas 3.0. This inplace method will never work because the intermediate object on which we are setting values always behaves as a copy.\n",
      "\n",
      "For example, when doing 'df[col].method(value, inplace=True)', try using 'df.method({col: value}, inplace=True)' or df[col] = df[col].method(value) instead, to perform the operation inplace on the original object.\n",
      "\n",
      "\n",
      "  df_meta_cluster['program_length_orig'].fillna(df_meta_cluster['program_length_orig'].median(), inplace=True)\n",
      "C:\\Users\\durvi\\AppData\\Local\\Temp\\ipykernel_193888\\3907714884.py:63: FutureWarning: A value is trying to be set on a copy of a DataFrame or Series through chained assignment using an inplace method.\n",
      "The behavior will change in pandas 3.0. This inplace method will never work because the intermediate object on which we are setting values always behaves as a copy.\n",
      "\n",
      "For example, when doing 'df[col].method(value, inplace=True)', try using 'df.method({col: value}, inplace=True)' or df[col] = df[col].method(value) instead, to perform the operation inplace on the original object.\n",
      "\n",
      "\n",
      "  df_meta_cluster['time_per_workout_orig'].fillna(df_meta_cluster['time_per_workout_orig'].median(), inplace=True)\n"
     ]
    },
    {
     "name": "stdout",
     "output_type": "stream",
     "text": [
      "\n",
      "Available Levels:\n",
      "1. []\n",
      "2. Advanced\n",
      "3. Beginner\n",
      "4. Intermediate\n",
      "5. Novice\n",
      "\n",
      "Available Equipment:\n",
      "1. At home\n",
      "2. Dumbbell only\n",
      "3. Full gym\n",
      "4. Garage gym\n",
      "\n",
      "Searching for workouts based on these preferences (Metadata Cluster):\n",
      "  Goal: bodybuilding\n",
      "  Level: advanced\n",
      "  Equipment: full gym\n",
      "  Max Length: 10.0 weeks\n",
      "  Max Time/Workout: 60.0 minutes\n",
      "\n",
      "--- Recommended Workouts (Metadata Cluster Report) ---\n"
     ]
    },
    {
     "data": {
      "text/markdown": [
       "### Shoulder Rehab"
      ],
      "text/plain": [
       "<IPython.core.display.Markdown object>"
      ]
     },
     "metadata": {},
     "output_type": "display_data"
    },
    {
     "data": {
      "text/markdown": [
       "**Goal:** Bodybuilding | **Level:** Advanced | **Equipment:** Full Gym"
      ],
      "text/plain": [
       "<IPython.core.display.Markdown object>"
      ]
     },
     "metadata": {},
     "output_type": "display_data"
    },
    {
     "data": {
      "text/markdown": [
       "**Program Length:** 3.0 weeks | **Time per Workout:** 30.0 minutes"
      ],
      "text/plain": [
       "<IPython.core.display.Markdown object>"
      ]
     },
     "metadata": {},
     "output_type": "display_data"
    },
    {
     "data": {
      "text/markdown": [
       "**Description:** Do you have shoulder pain during Benching or other exercises?\n",
       "Did you tear your shoulder?\n",
       "Do everyday tasks hurt your shoulder or rotator cuffs?\n",
       "Do you want better shoulder health?\n",
       "If taken seriously this program should help, you may need to do it multiple times to see the best results.\n",
       "You should be running a general strength, calisthenics, or hypertrophy program along side this because you need the surrounding muscles of the shoulder to be strong too."
      ],
      "text/plain": [
       "<IPython.core.display.Markdown object>"
      ]
     },
     "metadata": {},
     "output_type": "display_data"
    },
    {
     "data": {
      "text/markdown": [
       "**Exercises in this plan:**"
      ],
      "text/plain": [
       "<IPython.core.display.Markdown object>"
      ]
     },
     "metadata": {},
     "output_type": "display_data"
    },
    {
     "data": {
      "text/markdown": [
       "  - *Week 1, Day 1:* Internal Rotation (2.0 sets, 20.0 reps, Intensity: 8.0)"
      ],
      "text/plain": [
       "<IPython.core.display.Markdown object>"
      ]
     },
     "metadata": {},
     "output_type": "display_data"
    },
    {
     "data": {
      "text/markdown": [
       "  - *Week 1, Day 1:* Face Pull (Rotator Cuff) (2.0 sets, 20.0 reps, Intensity: 8.0)"
      ],
      "text/plain": [
       "<IPython.core.display.Markdown object>"
      ]
     },
     "metadata": {},
     "output_type": "display_data"
    },
    {
     "data": {
      "text/markdown": [
       "  - *Week 1, Day 1:* Cable Y Raise (Rehab) (2.0 sets, 5.0 reps, Intensity: 8.0)"
      ],
      "text/plain": [
       "<IPython.core.display.Markdown object>"
      ]
     },
     "metadata": {},
     "output_type": "display_data"
    },
    {
     "data": {
      "text/markdown": [
       "  - *Week 1, Day 2:* Internal Rotation (2.0 sets, 8.0 reps, Intensity: 8.0)"
      ],
      "text/plain": [
       "<IPython.core.display.Markdown object>"
      ]
     },
     "metadata": {},
     "output_type": "display_data"
    },
    {
     "data": {
      "text/markdown": [
       "  - *Week 1, Day 2:* Face Pull (Rotator Cuff) (2.0 sets, 10.0 reps, Intensity: 8.0)"
      ],
      "text/plain": [
       "<IPython.core.display.Markdown object>"
      ]
     },
     "metadata": {},
     "output_type": "display_data"
    },
    {
     "data": {
      "text/markdown": [
       "  - *Week 1, Day 2:* Cable Y Raise (Rehab) (2.0 sets, 5.0 reps, Intensity: 6.0)"
      ],
      "text/plain": [
       "<IPython.core.display.Markdown object>"
      ]
     },
     "metadata": {},
     "output_type": "display_data"
    },
    {
     "data": {
      "text/markdown": [
       "  - *Week 1, Day 3:* Internal Rotation (2.0 sets, 8.0 reps, Intensity: 5.0)"
      ],
      "text/plain": [
       "<IPython.core.display.Markdown object>"
      ]
     },
     "metadata": {},
     "output_type": "display_data"
    },
    {
     "data": {
      "text/markdown": [
       "  - *Week 1, Day 3:* Face Pull (Rotator Cuff) (2.0 sets, 20.0 reps, Intensity: 6.0)"
      ],
      "text/plain": [
       "<IPython.core.display.Markdown object>"
      ]
     },
     "metadata": {},
     "output_type": "display_data"
    },
    {
     "data": {
      "text/markdown": [
       "  - *Week 1, Day 3:* Cable Y Raise (Rehab) (2.0 sets, 5.0 reps, Intensity: 5.0)"
      ],
      "text/plain": [
       "<IPython.core.display.Markdown object>"
      ]
     },
     "metadata": {},
     "output_type": "display_data"
    },
    {
     "data": {
      "text/markdown": [
       "  - *Week 2, Day 1:* Internal Rotation (2.0 sets, 5.0 reps, Intensity: 6.0)"
      ],
      "text/plain": [
       "<IPython.core.display.Markdown object>"
      ]
     },
     "metadata": {},
     "output_type": "display_data"
    },
    {
     "data": {
      "text/markdown": [
       "  - *Week 2, Day 1:* Face Pull (Rotator Cuff) (2.0 sets, 20.0 reps, Intensity: 5.0)"
      ],
      "text/plain": [
       "<IPython.core.display.Markdown object>"
      ]
     },
     "metadata": {},
     "output_type": "display_data"
    },
    {
     "data": {
      "text/markdown": [
       "  - *Week 2, Day 1:* Cable Y Raise (Rehab) (2.0 sets, -60.0 reps, Intensity: 6.0)"
      ],
      "text/plain": [
       "<IPython.core.display.Markdown object>"
      ]
     },
     "metadata": {},
     "output_type": "display_data"
    },
    {
     "data": {
      "text/markdown": [
       "  - *Week 2, Day 2:* Internal Rotation (2.0 sets, -60.0 reps, Intensity: 5.0)"
      ],
      "text/plain": [
       "<IPython.core.display.Markdown object>"
      ]
     },
     "metadata": {},
     "output_type": "display_data"
    },
    {
     "data": {
      "text/markdown": [
       "  - *Week 2, Day 2:* Face Pull (Rotator Cuff) (2.0 sets, 8.0 reps, Intensity: 6.0)"
      ],
      "text/plain": [
       "<IPython.core.display.Markdown object>"
      ]
     },
     "metadata": {},
     "output_type": "display_data"
    },
    {
     "data": {
      "text/markdown": [
       "  - *Week 2, Day 2:* Cable Y Raise (Rehab) (2.0 sets, 10.0 reps, Intensity: 5.0)"
      ],
      "text/plain": [
       "<IPython.core.display.Markdown object>"
      ]
     },
     "metadata": {},
     "output_type": "display_data"
    },
    {
     "data": {
      "text/markdown": [
       "  - *Week 2, Day 3:* Internal Rotation (2.0 sets, 12.0 reps, Intensity: 6.0)"
      ],
      "text/plain": [
       "<IPython.core.display.Markdown object>"
      ]
     },
     "metadata": {},
     "output_type": "display_data"
    },
    {
     "data": {
      "text/markdown": [
       "  - *Week 2, Day 3:* Face Pull (Rotator Cuff) (2.0 sets, 20.0 reps, Intensity: 5.0)"
      ],
      "text/plain": [
       "<IPython.core.display.Markdown object>"
      ]
     },
     "metadata": {},
     "output_type": "display_data"
    },
    {
     "data": {
      "text/markdown": [
       "  - *Week 2, Day 3:* Cable Y Raise (Rehab) (2.0 sets, 20.0 reps, Intensity: 6.0)"
      ],
      "text/plain": [
       "<IPython.core.display.Markdown object>"
      ]
     },
     "metadata": {},
     "output_type": "display_data"
    },
    {
     "data": {
      "text/markdown": [
       "  - *Week 3, Day 1:* Internal Rotation (2.0 sets, 20.0 reps, Intensity: 5.0)"
      ],
      "text/plain": [
       "<IPython.core.display.Markdown object>"
      ]
     },
     "metadata": {},
     "output_type": "display_data"
    },
    {
     "data": {
      "text/markdown": [
       "  - *Week 3, Day 1:* Face Pull (Rotator Cuff) (2.0 sets, 20.0 reps, Intensity: 6.0)"
      ],
      "text/plain": [
       "<IPython.core.display.Markdown object>"
      ]
     },
     "metadata": {},
     "output_type": "display_data"
    },
    {
     "data": {
      "text/markdown": [
       "  *... (additional exercises omitted for brevity)*"
      ],
      "text/plain": [
       "<IPython.core.display.Markdown object>"
      ]
     },
     "metadata": {},
     "output_type": "display_data"
    },
    {
     "data": {
      "text/markdown": [
       "---"
      ],
      "text/plain": [
       "<IPython.core.display.Markdown object>"
      ]
     },
     "metadata": {},
     "output_type": "display_data"
    },
    {
     "data": {
      "text/markdown": [
       "### WILL DODDS METHOD 4 DAYS"
      ],
      "text/plain": [
       "<IPython.core.display.Markdown object>"
      ]
     },
     "metadata": {},
     "output_type": "display_data"
    },
    {
     "data": {
      "text/markdown": [
       "**Goal:** Bodybuilding | **Level:** Advanced | **Equipment:** Full Gym"
      ],
      "text/plain": [
       "<IPython.core.display.Markdown object>"
      ]
     },
     "metadata": {},
     "output_type": "display_data"
    },
    {
     "data": {
      "text/markdown": [
       "**Program Length:** 4.0 weeks | **Time per Workout:** 50.0 minutes"
      ],
      "text/plain": [
       "<IPython.core.display.Markdown object>"
      ]
     },
     "metadata": {},
     "output_type": "display_data"
    },
    {
     "data": {
      "text/markdown": [
       "**Description:** A simple strength program. It should be used with at least 2 active recovery days of cardio, or more hypertrophy volume for your weakpoints. \n",
       "\n",
       "Can also be run alone training 4x per week. \n",
       "\n",
       "Was designed as late stage PCL/ACL rehab"
      ],
      "text/plain": [
       "<IPython.core.display.Markdown object>"
      ]
     },
     "metadata": {},
     "output_type": "display_data"
    },
    {
     "data": {
      "text/markdown": [
       "**Exercises in this plan:**"
      ],
      "text/plain": [
       "<IPython.core.display.Markdown object>"
      ]
     },
     "metadata": {},
     "output_type": "display_data"
    },
    {
     "data": {
      "text/markdown": [
       "  - *Week 1, Day 1:* Bench Press (Barbell) (4.0 sets, 10.0 reps, Intensity: 9.0)"
      ],
      "text/plain": [
       "<IPython.core.display.Markdown object>"
      ]
     },
     "metadata": {},
     "output_type": "display_data"
    },
    {
     "data": {
      "text/markdown": [
       "  - *Week 1, Day 1:* Meadow Row (4.0 sets, 12.0 reps, Intensity: 8.0)"
      ],
      "text/plain": [
       "<IPython.core.display.Markdown object>"
      ]
     },
     "metadata": {},
     "output_type": "display_data"
    },
    {
     "data": {
      "text/markdown": [
       "  - *Week 1, Day 1:* Seated Overhead Press (Dumbbell) (4.0 sets, 8.0 reps, Intensity: 8.0)"
      ],
      "text/plain": [
       "<IPython.core.display.Markdown object>"
      ]
     },
     "metadata": {},
     "output_type": "display_data"
    },
    {
     "data": {
      "text/markdown": [
       "  - *Week 1, Day 1:* Overhead Tricep Extension (Cable) (1.0 sets, 8.0 reps, Intensity: 8.0)"
      ],
      "text/plain": [
       "<IPython.core.display.Markdown object>"
      ]
     },
     "metadata": {},
     "output_type": "display_data"
    },
    {
     "data": {
      "text/markdown": [
       "  - *Week 1, Day 2:* Squat (Barbell) (4.0 sets, 10.0 reps, Intensity: 9.0)"
      ],
      "text/plain": [
       "<IPython.core.display.Markdown object>"
      ]
     },
     "metadata": {},
     "output_type": "display_data"
    },
    {
     "data": {
      "text/markdown": [
       "  - *Week 1, Day 2:* Leg Extension (1.0 sets, 12.0 reps, Intensity: 8.0)"
      ],
      "text/plain": [
       "<IPython.core.display.Markdown object>"
      ]
     },
     "metadata": {},
     "output_type": "display_data"
    },
    {
     "data": {
      "text/markdown": [
       "  - *Week 1, Day 2:* Leg Press (3.0 sets, 10.0 reps, Intensity: 9.0)"
      ],
      "text/plain": [
       "<IPython.core.display.Markdown object>"
      ]
     },
     "metadata": {},
     "output_type": "display_data"
    },
    {
     "data": {
      "text/markdown": [
       "  - *Week 1, Day 2:* Seated Calf Raise (1.0 sets, 12.0 reps, Intensity: 8.0)"
      ],
      "text/plain": [
       "<IPython.core.display.Markdown object>"
      ]
     },
     "metadata": {},
     "output_type": "display_data"
    },
    {
     "data": {
      "text/markdown": [
       "  - *Week 1, Day 3:* Bench Press (Barbell) (4.0 sets, 12.0 reps, Intensity: 8.0)"
      ],
      "text/plain": [
       "<IPython.core.display.Markdown object>"
      ]
     },
     "metadata": {},
     "output_type": "display_data"
    },
    {
     "data": {
      "text/markdown": [
       "  - *Week 1, Day 3:* Military Press (Barbell) (3.0 sets, 10.0 reps, Intensity: 9.0)"
      ],
      "text/plain": [
       "<IPython.core.display.Markdown object>"
      ]
     },
     "metadata": {},
     "output_type": "display_data"
    },
    {
     "data": {
      "text/markdown": [
       "  - *Week 1, Day 3:* Bent Over Row (Dumbbell) (4.0 sets, 8.0 reps, Intensity: 9.0)"
      ],
      "text/plain": [
       "<IPython.core.display.Markdown object>"
      ]
     },
     "metadata": {},
     "output_type": "display_data"
    },
    {
     "data": {
      "text/markdown": [
       "  - *Week 1, Day 3:* Lat Pulldown (4.0 sets, 10.0 reps, Intensity: 9.0)"
      ],
      "text/plain": [
       "<IPython.core.display.Markdown object>"
      ]
     },
     "metadata": {},
     "output_type": "display_data"
    },
    {
     "data": {
      "text/markdown": [
       "  - *Week 1, Day 3:* Spider Curl (1.0 sets, -120.0 reps, Intensity: 8.0)"
      ],
      "text/plain": [
       "<IPython.core.display.Markdown object>"
      ]
     },
     "metadata": {},
     "output_type": "display_data"
    },
    {
     "data": {
      "text/markdown": [
       "  - *Week 1, Day 4:* Leg Extension (1.0 sets, 8.0 reps, Intensity: 8.0)"
      ],
      "text/plain": [
       "<IPython.core.display.Markdown object>"
      ]
     },
     "metadata": {},
     "output_type": "display_data"
    },
    {
     "data": {
      "text/markdown": [
       "  - *Week 1, Day 4:* Squat (Smith Machine) (2.0 sets, 10.0 reps, Intensity: 8.0)"
      ],
      "text/plain": [
       "<IPython.core.display.Markdown object>"
      ]
     },
     "metadata": {},
     "output_type": "display_data"
    },
    {
     "data": {
      "text/markdown": [
       "  - *Week 1, Day 4:* Bulgarian Split Squat (Dumbbell) (4.0 sets, 10.0 reps, Intensity: 9.0)"
      ],
      "text/plain": [
       "<IPython.core.display.Markdown object>"
      ]
     },
     "metadata": {},
     "output_type": "display_data"
    },
    {
     "data": {
      "text/markdown": [
       "  - *Week 1, Day 4:* Good Morning (1.0 sets, 12.0 reps, Intensity: 9.0)"
      ],
      "text/plain": [
       "<IPython.core.display.Markdown object>"
      ]
     },
     "metadata": {},
     "output_type": "display_data"
    },
    {
     "data": {
      "text/markdown": [
       "  - *Week 2, Day 1:* Bench Press (Barbell) (4.0 sets, 12.0 reps, Intensity: 8.0)"
      ],
      "text/plain": [
       "<IPython.core.display.Markdown object>"
      ]
     },
     "metadata": {},
     "output_type": "display_data"
    },
    {
     "data": {
      "text/markdown": [
       "  - *Week 2, Day 1:* Meadow Row (4.0 sets, 12.0 reps, Intensity: 8.0)"
      ],
      "text/plain": [
       "<IPython.core.display.Markdown object>"
      ]
     },
     "metadata": {},
     "output_type": "display_data"
    },
    {
     "data": {
      "text/markdown": [
       "  - *Week 2, Day 1:* Seated Overhead Press (Dumbbell) (4.0 sets, 8.0 reps, Intensity: 9.0)"
      ],
      "text/plain": [
       "<IPython.core.display.Markdown object>"
      ]
     },
     "metadata": {},
     "output_type": "display_data"
    },
    {
     "data": {
      "text/markdown": [
       "  *... (additional exercises omitted for brevity)*"
      ],
      "text/plain": [
       "<IPython.core.display.Markdown object>"
      ]
     },
     "metadata": {},
     "output_type": "display_data"
    },
    {
     "data": {
      "text/markdown": [
       "---"
      ],
      "text/plain": [
       "<IPython.core.display.Markdown object>"
      ]
     },
     "metadata": {},
     "output_type": "display_data"
    },
    {
     "data": {
      "text/markdown": [
       "### Aaron’s plan"
      ],
      "text/plain": [
       "<IPython.core.display.Markdown object>"
      ]
     },
     "metadata": {},
     "output_type": "display_data"
    },
    {
     "data": {
      "text/markdown": [
       "**Goal:** Bodybuilding | **Level:** Advanced | **Equipment:** Full Gym"
      ],
      "text/plain": [
       "<IPython.core.display.Markdown object>"
      ]
     },
     "metadata": {},
     "output_type": "display_data"
    },
    {
     "data": {
      "text/markdown": [
       "**Program Length:** 4.0 weeks | **Time per Workout:** 60.0 minutes"
      ],
      "text/plain": [
       "<IPython.core.display.Markdown object>"
      ]
     },
     "metadata": {},
     "output_type": "display_data"
    },
    {
     "data": {
      "text/markdown": [
       "**Description:** To get my brother strong af"
      ],
      "text/plain": [
       "<IPython.core.display.Markdown object>"
      ]
     },
     "metadata": {},
     "output_type": "display_data"
    },
    {
     "data": {
      "text/markdown": [
       "**Exercises in this plan:**"
      ],
      "text/plain": [
       "<IPython.core.display.Markdown object>"
      ]
     },
     "metadata": {},
     "output_type": "display_data"
    },
    {
     "data": {
      "text/markdown": [
       "  - *Week 1, Day 1:* Deadlift (Barbell) (5.0 sets, 5.0 reps, Intensity: 9.0)"
      ],
      "text/plain": [
       "<IPython.core.display.Markdown object>"
      ]
     },
     "metadata": {},
     "output_type": "display_data"
    },
    {
     "data": {
      "text/markdown": [
       "  - *Week 1, Day 1:* Lunge (Dumbbell) (3.0 sets, 5.0 reps, Intensity: 9.0)"
      ],
      "text/plain": [
       "<IPython.core.display.Markdown object>"
      ]
     },
     "metadata": {},
     "output_type": "display_data"
    },
    {
     "data": {
      "text/markdown": [
       "  - *Week 1, Day 1:* Calf Raise (Leg Press) (3.0 sets, 5.0 reps, Intensity: 9.0)"
      ],
      "text/plain": [
       "<IPython.core.display.Markdown object>"
      ]
     },
     "metadata": {},
     "output_type": "display_data"
    },
    {
     "data": {
      "text/markdown": [
       "  - *Week 1, Day 2:* Bench Press (Barbell) (5.0 sets, 5.0 reps, Intensity: 9.0)"
      ],
      "text/plain": [
       "<IPython.core.display.Markdown object>"
      ]
     },
     "metadata": {},
     "output_type": "display_data"
    },
    {
     "data": {
      "text/markdown": [
       "  - *Week 1, Day 2:* Dip (Bodyweight) (3.0 sets, 5.0 reps, Intensity: 9.0)"
      ],
      "text/plain": [
       "<IPython.core.display.Markdown object>"
      ]
     },
     "metadata": {},
     "output_type": "display_data"
    },
    {
     "data": {
      "text/markdown": [
       "  - *Week 1, Day 2:* Lateral Raise (Cable) (3.0 sets, 5.0 reps, Intensity: 9.0)"
      ],
      "text/plain": [
       "<IPython.core.display.Markdown object>"
      ]
     },
     "metadata": {},
     "output_type": "display_data"
    },
    {
     "data": {
      "text/markdown": [
       "  - *Week 1, Day 3:* Pull-Up (Bodyweight) (3.0 sets, 5.0 reps, Intensity: 9.0)"
      ],
      "text/plain": [
       "<IPython.core.display.Markdown object>"
      ]
     },
     "metadata": {},
     "output_type": "display_data"
    },
    {
     "data": {
      "text/markdown": [
       "  - *Week 1, Day 3:* Barbell Row (5.0 sets, 5.0 reps, Intensity: 9.0)"
      ],
      "text/plain": [
       "<IPython.core.display.Markdown object>"
      ]
     },
     "metadata": {},
     "output_type": "display_data"
    },
    {
     "data": {
      "text/markdown": [
       "  - *Week 1, Day 3:* Bicep Curl (Cable) (3.0 sets, 5.0 reps, Intensity: 9.0)"
      ],
      "text/plain": [
       "<IPython.core.display.Markdown object>"
      ]
     },
     "metadata": {},
     "output_type": "display_data"
    },
    {
     "data": {
      "text/markdown": [
       "  - *Week 1, Day 4:* Squat (Barbell) (5.0 sets, 5.0 reps, Intensity: 9.0)"
      ],
      "text/plain": [
       "<IPython.core.display.Markdown object>"
      ]
     },
     "metadata": {},
     "output_type": "display_data"
    },
    {
     "data": {
      "text/markdown": [
       "  - *Week 1, Day 4:* Romanian Deadlift (Barbell) (3.0 sets, 5.0 reps, Intensity: 9.0)"
      ],
      "text/plain": [
       "<IPython.core.display.Markdown object>"
      ]
     },
     "metadata": {},
     "output_type": "display_data"
    },
    {
     "data": {
      "text/markdown": [
       "  - *Week 1, Day 4:* Calf Raise (Leg Press) (3.0 sets, 5.0 reps, Intensity: 9.0)"
      ],
      "text/plain": [
       "<IPython.core.display.Markdown object>"
      ]
     },
     "metadata": {},
     "output_type": "display_data"
    },
    {
     "data": {
      "text/markdown": [
       "  - *Week 2, Day 1:* Deadlift (Barbell) (5.0 sets, 5.0 reps, Intensity: 9.0)"
      ],
      "text/plain": [
       "<IPython.core.display.Markdown object>"
      ]
     },
     "metadata": {},
     "output_type": "display_data"
    },
    {
     "data": {
      "text/markdown": [
       "  - *Week 2, Day 1:* Lunge (Dumbbell) (3.0 sets, 5.0 reps, Intensity: 9.0)"
      ],
      "text/plain": [
       "<IPython.core.display.Markdown object>"
      ]
     },
     "metadata": {},
     "output_type": "display_data"
    },
    {
     "data": {
      "text/markdown": [
       "  - *Week 2, Day 1:* Calf Raise (Leg Press) (3.0 sets, 5.0 reps, Intensity: 9.0)"
      ],
      "text/plain": [
       "<IPython.core.display.Markdown object>"
      ]
     },
     "metadata": {},
     "output_type": "display_data"
    },
    {
     "data": {
      "text/markdown": [
       "  - *Week 2, Day 2:* Bench Press (Barbell) (5.0 sets, 5.0 reps, Intensity: 9.0)"
      ],
      "text/plain": [
       "<IPython.core.display.Markdown object>"
      ]
     },
     "metadata": {},
     "output_type": "display_data"
    },
    {
     "data": {
      "text/markdown": [
       "  - *Week 2, Day 2:* Dip (Bodyweight) (3.0 sets, 5.0 reps, Intensity: 9.0)"
      ],
      "text/plain": [
       "<IPython.core.display.Markdown object>"
      ]
     },
     "metadata": {},
     "output_type": "display_data"
    },
    {
     "data": {
      "text/markdown": [
       "  - *Week 2, Day 2:* Lateral Raise (Cable) (3.0 sets, 5.0 reps, Intensity: 9.0)"
      ],
      "text/plain": [
       "<IPython.core.display.Markdown object>"
      ]
     },
     "metadata": {},
     "output_type": "display_data"
    },
    {
     "data": {
      "text/markdown": [
       "  - *Week 2, Day 3:* Pull-Up (Bodyweight) (3.0 sets, 5.0 reps, Intensity: 9.0)"
      ],
      "text/plain": [
       "<IPython.core.display.Markdown object>"
      ]
     },
     "metadata": {},
     "output_type": "display_data"
    },
    {
     "data": {
      "text/markdown": [
       "  - *Week 2, Day 3:* Barbell Row (5.0 sets, 5.0 reps, Intensity: 9.0)"
      ],
      "text/plain": [
       "<IPython.core.display.Markdown object>"
      ]
     },
     "metadata": {},
     "output_type": "display_data"
    },
    {
     "data": {
      "text/markdown": [
       "  *... (additional exercises omitted for brevity)*"
      ],
      "text/plain": [
       "<IPython.core.display.Markdown object>"
      ]
     },
     "metadata": {},
     "output_type": "display_data"
    },
    {
     "data": {
      "text/markdown": [
       "---"
      ],
      "text/plain": [
       "<IPython.core.display.Markdown object>"
      ]
     },
     "metadata": {},
     "output_type": "display_data"
    },
    {
     "data": {
      "text/markdown": [
       "### Pierwszy rozgrzewkowy"
      ],
      "text/plain": [
       "<IPython.core.display.Markdown object>"
      ]
     },
     "metadata": {},
     "output_type": "display_data"
    },
    {
     "data": {
      "text/markdown": [
       "**Goal:** Bodybuilding | **Level:** Advanced | **Equipment:** Full Gym"
      ],
      "text/plain": [
       "<IPython.core.display.Markdown object>"
      ]
     },
     "metadata": {},
     "output_type": "display_data"
    },
    {
     "data": {
      "text/markdown": [
       "**Program Length:** 4.0 weeks | **Time per Workout:** 60.0 minutes"
      ],
      "text/plain": [
       "<IPython.core.display.Markdown object>"
      ]
     },
     "metadata": {},
     "output_type": "display_data"
    },
    {
     "data": {
      "text/markdown": [
       "**Description:** Basic bitch fbw"
      ],
      "text/plain": [
       "<IPython.core.display.Markdown object>"
      ]
     },
     "metadata": {},
     "output_type": "display_data"
    },
    {
     "data": {
      "text/markdown": [
       "**Exercises in this plan:**"
      ],
      "text/plain": [
       "<IPython.core.display.Markdown object>"
      ]
     },
     "metadata": {},
     "output_type": "display_data"
    },
    {
     "data": {
      "text/markdown": [
       "  - *Week 1, Day 1:* Squat (Barbell) (3.0 sets, 8.0 reps, Intensity: 8.0)"
      ],
      "text/plain": [
       "<IPython.core.display.Markdown object>"
      ]
     },
     "metadata": {},
     "output_type": "display_data"
    },
    {
     "data": {
      "text/markdown": [
       "  - *Week 1, Day 1:* Bench Press (Barbell) (3.0 sets, 12.0 reps, Intensity: 8.0)"
      ],
      "text/plain": [
       "<IPython.core.display.Markdown object>"
      ]
     },
     "metadata": {},
     "output_type": "display_data"
    },
    {
     "data": {
      "text/markdown": [
       "  - *Week 1, Day 1:* Bent Over Row (Dumbbell) (3.0 sets, 15.0 reps, Intensity: 8.0)"
      ],
      "text/plain": [
       "<IPython.core.display.Markdown object>"
      ]
     },
     "metadata": {},
     "output_type": "display_data"
    },
    {
     "data": {
      "text/markdown": [
       "  - *Week 1, Day 1:* Bicep Curl (Dumbbell) (2.0 sets, 15.0 reps, Intensity: 8.0)"
      ],
      "text/plain": [
       "<IPython.core.display.Markdown object>"
      ]
     },
     "metadata": {},
     "output_type": "display_data"
    },
    {
     "data": {
      "text/markdown": [
       "  - *Week 1, Day 1:* Lateral Raise (Dumbbell) (2.0 sets, 12.0 reps, Intensity: 8.0)"
      ],
      "text/plain": [
       "<IPython.core.display.Markdown object>"
      ]
     },
     "metadata": {},
     "output_type": "display_data"
    },
    {
     "data": {
      "text/markdown": [
       "  - *Week 1, Day 1:* Kettlebell Swing (3.0 sets, 12.0 reps, Intensity: 8.0)"
      ],
      "text/plain": [
       "<IPython.core.display.Markdown object>"
      ]
     },
     "metadata": {},
     "output_type": "display_data"
    },
    {
     "data": {
      "text/markdown": [
       "  - *Week 1, Day 1:* Lying Leg Raise (3.0 sets, 20.0 reps, Intensity: 8.0)"
      ],
      "text/plain": [
       "<IPython.core.display.Markdown object>"
      ]
     },
     "metadata": {},
     "output_type": "display_data"
    },
    {
     "data": {
      "text/markdown": [
       "  - *Week 1, Day 2:* Romanian Deadlift (Barbell) (3.0 sets, 15.0 reps, Intensity: 8.0)"
      ],
      "text/plain": [
       "<IPython.core.display.Markdown object>"
      ]
     },
     "metadata": {},
     "output_type": "display_data"
    },
    {
     "data": {
      "text/markdown": [
       "  - *Week 1, Day 2:* Underhand Lat Pulldown (3.0 sets, 20.0 reps, Intensity: 8.0)"
      ],
      "text/plain": [
       "<IPython.core.display.Markdown object>"
      ]
     },
     "metadata": {},
     "output_type": "display_data"
    },
    {
     "data": {
      "text/markdown": [
       "  - *Week 1, Day 2:* Dip (Assisted) (3.0 sets, 30.0 reps, Intensity: 8.0)"
      ],
      "text/plain": [
       "<IPython.core.display.Markdown object>"
      ]
     },
     "metadata": {},
     "output_type": "display_data"
    },
    {
     "data": {
      "text/markdown": [
       "  - *Week 1, Day 2:* Leg Press (3.0 sets, 15.0 reps, Intensity: 8.0)"
      ],
      "text/plain": [
       "<IPython.core.display.Markdown object>"
      ]
     },
     "metadata": {},
     "output_type": "display_data"
    },
    {
     "data": {
      "text/markdown": [
       "  - *Week 1, Day 2:* Seated Overhead Extension (EZ Bar) (2.0 sets, 12.0 reps, Intensity: 8.0)"
      ],
      "text/plain": [
       "<IPython.core.display.Markdown object>"
      ]
     },
     "metadata": {},
     "output_type": "display_data"
    },
    {
     "data": {
      "text/markdown": [
       "  - *Week 1, Day 2:* Preacher Curl (EZ Bar) (2.0 sets, 15.0 reps, Intensity: 8.0)"
      ],
      "text/plain": [
       "<IPython.core.display.Markdown object>"
      ]
     },
     "metadata": {},
     "output_type": "display_data"
    },
    {
     "data": {
      "text/markdown": [
       "  - *Week 1, Day 2:* Turkish Get Up (2.0 sets, 12.0 reps, Intensity: 8.0)"
      ],
      "text/plain": [
       "<IPython.core.display.Markdown object>"
      ]
     },
     "metadata": {},
     "output_type": "display_data"
    },
    {
     "data": {
      "text/markdown": [
       "  - *Week 2, Day 1:* Squat (Barbell) (3.0 sets, 8.0 reps, Intensity: 8.0)"
      ],
      "text/plain": [
       "<IPython.core.display.Markdown object>"
      ]
     },
     "metadata": {},
     "output_type": "display_data"
    },
    {
     "data": {
      "text/markdown": [
       "  - *Week 2, Day 1:* Incline Bench Press (Dumbbell) (3.0 sets, 10.0 reps, Intensity: 8.0)"
      ],
      "text/plain": [
       "<IPython.core.display.Markdown object>"
      ]
     },
     "metadata": {},
     "output_type": "display_data"
    },
    {
     "data": {
      "text/markdown": [
       "  - *Week 2, Day 1:* Seated Row (Machine) (4.0 sets, 15.0 reps, Intensity: 8.0)"
      ],
      "text/plain": [
       "<IPython.core.display.Markdown object>"
      ]
     },
     "metadata": {},
     "output_type": "display_data"
    },
    {
     "data": {
      "text/markdown": [
       "  - *Week 2, Day 1:* Leg Curl (2.0 sets, 8.0 reps, Intensity: 8.0)"
      ],
      "text/plain": [
       "<IPython.core.display.Markdown object>"
      ]
     },
     "metadata": {},
     "output_type": "display_data"
    },
    {
     "data": {
      "text/markdown": [
       "  - *Week 2, Day 1:* Sit Up (3.0 sets, 10.0 reps, Intensity: 8.0)"
      ],
      "text/plain": [
       "<IPython.core.display.Markdown object>"
      ]
     },
     "metadata": {},
     "output_type": "display_data"
    },
    {
     "data": {
      "text/markdown": [
       "  - *Week 2, Day 1:* Bicep Curl (Dumbbell) (2.0 sets, 10.0 reps, Intensity: 8.0)"
      ],
      "text/plain": [
       "<IPython.core.display.Markdown object>"
      ]
     },
     "metadata": {},
     "output_type": "display_data"
    },
    {
     "data": {
      "text/markdown": [
       "  *... (additional exercises omitted for brevity)*"
      ],
      "text/plain": [
       "<IPython.core.display.Markdown object>"
      ]
     },
     "metadata": {},
     "output_type": "display_data"
    },
    {
     "data": {
      "text/markdown": [
       "---"
      ],
      "text/plain": [
       "<IPython.core.display.Markdown object>"
      ]
     },
     "metadata": {},
     "output_type": "display_data"
    },
    {
     "data": {
      "text/markdown": [
       "### 6 Week Get Started"
      ],
      "text/plain": [
       "<IPython.core.display.Markdown object>"
      ]
     },
     "metadata": {},
     "output_type": "display_data"
    },
    {
     "data": {
      "text/markdown": [
       "**Goal:** Bodybuilding | **Level:** Advanced | **Equipment:** Full Gym"
      ],
      "text/plain": [
       "<IPython.core.display.Markdown object>"
      ]
     },
     "metadata": {},
     "output_type": "display_data"
    },
    {
     "data": {
      "text/markdown": [
       "**Program Length:** 6.0 weeks | **Time per Workout:** 40.0 minutes"
      ],
      "text/plain": [
       "<IPython.core.display.Markdown object>"
      ]
     },
     "metadata": {},
     "output_type": "display_data"
    },
    {
     "data": {
      "text/markdown": [
       "**Description:** Create a solid foundation starting slowly."
      ],
      "text/plain": [
       "<IPython.core.display.Markdown object>"
      ]
     },
     "metadata": {},
     "output_type": "display_data"
    },
    {
     "data": {
      "text/markdown": [
       "**Exercises in this plan:**"
      ],
      "text/plain": [
       "<IPython.core.display.Markdown object>"
      ]
     },
     "metadata": {},
     "output_type": "display_data"
    },
    {
     "data": {
      "text/markdown": [
       "  - *Week 1, Day 1:* Bench Press (Barbell) (4.0 sets, 12.0 reps, Intensity: 9.0)"
      ],
      "text/plain": [
       "<IPython.core.display.Markdown object>"
      ]
     },
     "metadata": {},
     "output_type": "display_data"
    },
    {
     "data": {
      "text/markdown": [
       "  - *Week 1, Day 1:* Lat Pulldown (4.0 sets, 12.0 reps, Intensity: 9.0)"
      ],
      "text/plain": [
       "<IPython.core.display.Markdown object>"
      ]
     },
     "metadata": {},
     "output_type": "display_data"
    },
    {
     "data": {
      "text/markdown": [
       "  - *Week 1, Day 1:* Seated Overhead Press (Dumbbell) (4.0 sets, 12.0 reps, Intensity: 9.0)"
      ],
      "text/plain": [
       "<IPython.core.display.Markdown object>"
      ]
     },
     "metadata": {},
     "output_type": "display_data"
    },
    {
     "data": {
      "text/markdown": [
       "  - *Week 1, Day 1:* Leg Extension (4.0 sets, 8.0 reps, Intensity: 9.0)"
      ],
      "text/plain": [
       "<IPython.core.display.Markdown object>"
      ]
     },
     "metadata": {},
     "output_type": "display_data"
    },
    {
     "data": {
      "text/markdown": [
       "  - *Week 1, Day 1:* Bicep Curl (Barbell) (3.0 sets, 10.0 reps, Intensity: 9.0)"
      ],
      "text/plain": [
       "<IPython.core.display.Markdown object>"
      ]
     },
     "metadata": {},
     "output_type": "display_data"
    },
    {
     "data": {
      "text/markdown": [
       "  - *Week 1, Day 1:* Tricep Rope Push Down (Cable) (3.0 sets, 12.0 reps, Intensity: 9.0)"
      ],
      "text/plain": [
       "<IPython.core.display.Markdown object>"
      ]
     },
     "metadata": {},
     "output_type": "display_data"
    },
    {
     "data": {
      "text/markdown": [
       "  - *Week 1, Day 2:* Leg Press (4.0 sets, 8.0 reps, Intensity: 8.0)"
      ],
      "text/plain": [
       "<IPython.core.display.Markdown object>"
      ]
     },
     "metadata": {},
     "output_type": "display_data"
    },
    {
     "data": {
      "text/markdown": [
       "  - *Week 1, Day 2:* Tricep Extension (Barbell) (3.0 sets, 15.0 reps, Intensity: 9.0)"
      ],
      "text/plain": [
       "<IPython.core.display.Markdown object>"
      ]
     },
     "metadata": {},
     "output_type": "display_data"
    },
    {
     "data": {
      "text/markdown": [
       "  - *Week 1, Day 2:* Bicep Curl (EZ Bar) (4.0 sets, 12.0 reps, Intensity: 9.0)"
      ],
      "text/plain": [
       "<IPython.core.display.Markdown object>"
      ]
     },
     "metadata": {},
     "output_type": "display_data"
    },
    {
     "data": {
      "text/markdown": [
       "  - *Week 1, Day 2:* Chest Press (Machine) (4.0 sets, 8.0 reps, Intensity: 9.0)"
      ],
      "text/plain": [
       "<IPython.core.display.Markdown object>"
      ]
     },
     "metadata": {},
     "output_type": "display_data"
    },
    {
     "data": {
      "text/markdown": [
       "  - *Week 1, Day 2:* Chest Supported Row (Machine) (4.0 sets, 8.0 reps, Intensity: 9.0)"
      ],
      "text/plain": [
       "<IPython.core.display.Markdown object>"
      ]
     },
     "metadata": {},
     "output_type": "display_data"
    },
    {
     "data": {
      "text/markdown": [
       "  - *Week 1, Day 2:* Lateral Raise (Dumbbell) (3.0 sets, 8.0 reps, Intensity: 9.0)"
      ],
      "text/plain": [
       "<IPython.core.display.Markdown object>"
      ]
     },
     "metadata": {},
     "output_type": "display_data"
    },
    {
     "data": {
      "text/markdown": [
       "  - *Week 1, Day 3:* Upright Row (Barbell) (3.0 sets, 8.0 reps, Intensity: 9.0)"
      ],
      "text/plain": [
       "<IPython.core.display.Markdown object>"
      ]
     },
     "metadata": {},
     "output_type": "display_data"
    },
    {
     "data": {
      "text/markdown": [
       "  - *Week 1, Day 3:* Lat Pulldown (Close Grip) (4.0 sets, 99.0 reps, Intensity: 9.0)"
      ],
      "text/plain": [
       "<IPython.core.display.Markdown object>"
      ]
     },
     "metadata": {},
     "output_type": "display_data"
    },
    {
     "data": {
      "text/markdown": [
       "  - *Week 1, Day 3:* Chest Fly (Cable) (4.0 sets, 12.0 reps, Intensity: 9.0)"
      ],
      "text/plain": [
       "<IPython.core.display.Markdown object>"
      ]
     },
     "metadata": {},
     "output_type": "display_data"
    },
    {
     "data": {
      "text/markdown": [
       "  - *Week 1, Day 3:* Lunge (Barbell) (3.0 sets, 12.0 reps, Intensity: 9.0)"
      ],
      "text/plain": [
       "<IPython.core.display.Markdown object>"
      ]
     },
     "metadata": {},
     "output_type": "display_data"
    },
    {
     "data": {
      "text/markdown": [
       "  - *Week 1, Day 3:* Skull Crusher (3.0 sets, 12.0 reps, Intensity: 9.0)"
      ],
      "text/plain": [
       "<IPython.core.display.Markdown object>"
      ]
     },
     "metadata": {},
     "output_type": "display_data"
    },
    {
     "data": {
      "text/markdown": [
       "  - *Week 1, Day 3:* Hammer Curl (3.0 sets, 8.0 reps, Intensity: 9.0)"
      ],
      "text/plain": [
       "<IPython.core.display.Markdown object>"
      ]
     },
     "metadata": {},
     "output_type": "display_data"
    },
    {
     "data": {
      "text/markdown": [
       "  - *Week 1, Day 4:* Bench Press (Barbell) (4.0 sets, 10.0 reps, Intensity: 9.0)"
      ],
      "text/plain": [
       "<IPython.core.display.Markdown object>"
      ]
     },
     "metadata": {},
     "output_type": "display_data"
    },
    {
     "data": {
      "text/markdown": [
       "  - *Week 1, Day 4:* Lat Pulldown (4.0 sets, 12.0 reps, Intensity: 9.0)"
      ],
      "text/plain": [
       "<IPython.core.display.Markdown object>"
      ]
     },
     "metadata": {},
     "output_type": "display_data"
    },
    {
     "data": {
      "text/markdown": [
       "  *... (additional exercises omitted for brevity)*"
      ],
      "text/plain": [
       "<IPython.core.display.Markdown object>"
      ]
     },
     "metadata": {},
     "output_type": "display_data"
    },
    {
     "data": {
      "text/markdown": [
       "---"
      ],
      "text/plain": [
       "<IPython.core.display.Markdown object>"
      ]
     },
     "metadata": {},
     "output_type": "display_data"
    }
   ],
   "source": [
    "# --- Define Functions for Metadata-Only Clustering Recommendation ---\n",
    "def clean_and_parse(s):\n",
    "    if not isinstance(s, str):\n",
    "        return np.nan\n",
    "    s = s.strip()\n",
    "    try:\n",
    "        val = ast.literal_eval(s)\n",
    "        if isinstance(val, list) and len(val) > 0:\n",
    "            return val[0]\n",
    "        return val\n",
    "    except (ValueError, SyntaxError):\n",
    "        return s\n",
    "\n",
    "def create_metadata_clustering_model(df_meta):\n",
    "    print(\"Building the metadata-only clustering model...\")\n",
    "    features = df_meta[['goal', 'level', 'equipment']].copy()\n",
    "    features.fillna('unknown', inplace=True)\n",
    "    ohe = OneHotEncoder(handle_unknown='ignore', sparse_output=False)\n",
    "    encoded_features = ohe.fit_transform(features)\n",
    "    num_clusters = min(len(df_meta['goal'].unique()) * len(df_meta['level'].unique()) * 2, len(df_meta))\n",
    "    kmeans = KMeans(n_clusters=num_clusters, random_state=42, n_init=10)\n",
    "    kmeans.fit(encoded_features)\n",
    "    df_meta['cluster_metadata'] = kmeans.labels_\n",
    "    print(\"Metadata-only clustering model built successfully.\")\n",
    "    return kmeans, ohe, df_meta\n",
    "\n",
    "def recommend_by_metadata_cluster(user_goal, user_level, user_equipment, kmeans_model, ohe_encoder, df_meta, num_recommendations=5):\n",
    "    user_input_df = pd.DataFrame([[user_goal.lower(), user_level.lower(), user_equipment.lower()]],\n",
    "                                 columns=['goal', 'level', 'equipment'])\n",
    "    user_encoded = ohe_encoder.transform(user_input_df)\n",
    "    user_cluster = kmeans_model.predict(user_encoded)[0]\n",
    "    cluster_workouts = df_meta[df_meta['cluster_metadata'] == user_cluster]\n",
    "    if cluster_workouts.empty:\n",
    "        print(\"No workouts found in the matching metadata cluster.\")\n",
    "        return pd.DataFrame()\n",
    "    if len(cluster_workouts) > num_recommendations:\n",
    "        return cluster_workouts.sample(n=num_recommendations, random_state=random.seed())\n",
    "    else:\n",
    "        return cluster_workouts\n",
    "\n",
    "# --- Prepare Data for Metadata Clustering ---\n",
    "df_meta_cluster = ex_df_orig.drop_duplicates(subset=['title'], keep='first').copy()\n",
    "for col in ['goal', 'level', 'equipment']:\n",
    "    df_meta_cluster[col] = df_meta_cluster[col].apply(clean_and_parse)\n",
    "df_meta_cluster.dropna(subset=['goal', 'level', 'equipment', 'description', 'title'], inplace=True)\n",
    "if df_meta_cluster.empty:\n",
    "    raise ValueError(\"DataFrame for metadata clustering is empty after cleaning.\")\n",
    "else:\n",
    "    df_meta_cluster['goal'] = df_meta_cluster['goal'].astype(str).str.lower()\n",
    "    df_meta_cluster['level'] = df_meta_cluster['level'].astype(str).str.lower()\n",
    "    df_meta_cluster['equipment'] = df_meta_cluster['equipment'].astype(str).str.lower()\n",
    "\n",
    "# --- Add original length/time to df_meta_cluster for filtering ---\n",
    "# Need to merge with prog_df to get these columns\n",
    "df_meta_cluster = pd.merge(\n",
    "    df_meta_cluster,\n",
    "    prog_df[['title', 'program_length_orig', 'time_per_workout_orig']],\n",
    "    on='title',\n",
    "    how='left'\n",
    ")\n",
    "# Handle potential NaNs introduced by the merge if titles didn't match perfectly\n",
    "df_meta_cluster['program_length_orig'].fillna(df_meta_cluster['program_length_orig'].median(), inplace=True)\n",
    "df_meta_cluster['time_per_workout_orig'].fillna(df_meta_cluster['time_per_workout_orig'].median(), inplace=True)\n",
    "\n",
    "\n",
    "# --- Create Metadata Clustering Model ---\n",
    "kmeans_meta_model, ohe_meta_encoder, processed_meta_df = create_metadata_clustering_model(df_meta_cluster)\n",
    "\n",
    "\n",
    "# --- Get User Input for Metadata Clustering Recommendation ---\n",
    "print(\"\\n--- Get User Preferences for Metadata Cluster Recommendations ---\")\n",
    "unique_goals_meta = set(g for g in processed_meta_df['goal'].unique() if g != 'unknown')\n",
    "sorted_goals = sorted(list(unique_goals_meta))\n",
    "unique_levels_meta = set(l for l in processed_meta_df['level'].unique() if l != 'unknown')\n",
    "sorted_levels = sorted(list(unique_levels_meta))\n",
    "unique_equipment_meta = set(e for e in processed_meta_df['equipment'].unique() if e != 'unknown')\n",
    "sorted_equipment = sorted(list(unique_equipment_meta))\n",
    "\n",
    "print(\"\\nAvailable Goals:\")\n",
    "for i, goal in enumerate(sorted_goals): print(f\"{i+1}. {goal.capitalize()}\")\n",
    "while True:\n",
    "    try:\n",
    "        goal_choice_idx_meta = int(input(f\"Enter the number for your fitness goal (1-{len(sorted_goals)}): \"))\n",
    "        if 1 <= goal_choice_idx_meta <= len(sorted_goals):\n",
    "            user_goal_meta = sorted_goals[goal_choice_idx_meta-1]\n",
    "            break\n",
    "        else: print(\"Invalid number.\")\n",
    "    except ValueError: print(\"Invalid input. Please enter a number.\")\n",
    "\n",
    "print(\"\\nAvailable Levels:\")\n",
    "for i, level in enumerate(sorted_levels): print(f\"{i+1}. {level.capitalize()}\")\n",
    "while True:\n",
    "    try:\n",
    "        level_choice_idx_meta = int(input(f\"Enter the number for your fitness level (1-{len(sorted_levels)}): \"))\n",
    "        if 1 <= level_choice_idx_meta <= len(sorted_levels):\n",
    "            user_level_meta = sorted_levels[level_choice_idx_meta-1]\n",
    "            break\n",
    "        else: print(\"Invalid number.\")\n",
    "    except ValueError: print(\"Invalid input. Please enter a number.\")\n",
    "\n",
    "print(\"\\nAvailable Equipment:\")\n",
    "for i, equip in enumerate(sorted_equipment): print(f\"{i+1}. {equip.capitalize()}\")\n",
    "while True:\n",
    "    try:\n",
    "        equip_choice_idx_meta = int(input(f\"Enter the number for your available equipment (1-{len(sorted_equipment)}): \"))\n",
    "        if 1 <= equip_choice_idx_meta <= len(sorted_equipment):\n",
    "            user_equipment_meta = sorted_equipment[equip_choice_idx_meta-1]\n",
    "            break\n",
    "        else: print(\"Invalid number.\")\n",
    "    except ValueError: print(\"Invalid input. Please enter a number.\")\n",
    "\n",
    "# --- Get NEW User Input for Length and Time ---\n",
    "max_len_input_meta = input(\"Enter maximum program length in weeks (leave blank for any): \")\n",
    "user_max_length_meta = float(max_len_input_meta) if max_len_input_meta.strip() else None\n",
    "\n",
    "max_time_input_meta = input(\"Enter maximum time per workout in minutes (leave blank for any): \")\n",
    "user_max_time_meta = float(max_time_input_meta) if max_time_input_meta.strip() else None\n",
    "\n",
    "# --- Generate Recommendations using Metadata Cluster ---\n",
    "print(f\"\\nSearching for workouts based on these preferences (Metadata Cluster):\")\n",
    "print(f\"  Goal: {user_goal_meta}\")\n",
    "print(f\"  Level: {user_level_meta}\")\n",
    "print(f\"  Equipment: {user_equipment_meta}\")\n",
    "if user_max_length_meta is not None: print(f\"  Max Length: {user_max_length_meta} weeks\")\n",
    "if user_max_time_meta is not None: print(f\"  Max Time/Workout: {user_max_time_meta} minutes\")\n",
    "print(\"\")\n",
    "\n",
    "# --- Filter BEFORE recommending from cluster ---\n",
    "filtered_meta_df = processed_meta_df.copy()\n",
    "if user_max_length_meta is not None:\n",
    "    filtered_meta_df = filtered_meta_df[filtered_meta_df['program_length_orig'] <= user_max_length_meta]\n",
    "if user_max_time_meta is not None:\n",
    "    filtered_meta_df = filtered_meta_df[filtered_meta_df['time_per_workout_orig'] <= user_max_time_meta]\n",
    "\n",
    "recommendations_meta = recommend_by_metadata_cluster(\n",
    "    user_goal_meta, user_level_meta, user_equipment_meta,\n",
    "    kmeans_meta_model, ohe_meta_encoder, filtered_meta_df # Use filtered df here\n",
    ")\n",
    "\n",
    "# --- Display Detailed Recommendations ---\n",
    "if not recommendations_meta.empty:\n",
    "    # No need to merge again, length/time are already in recommendations_meta\n",
    "    print(\"--- Recommended Workouts (Metadata Cluster Report) ---\")\n",
    "    pd.set_option('display.max_colwidth', None)\n",
    "    pd.set_option('display.width', 1000)\n",
    "\n",
    "    for index, row in recommendations_meta.iterrows():\n",
    "        display(Markdown(f\"### {row['title']}\"))\n",
    "        display(Markdown(f\"**Goal:** {row['goal'].title()} | **Level:** {row['level'].title()} | **Equipment:** {row['equipment'].title()}\"))\n",
    "\n",
    "        length_str = f\"{row['program_length_orig']} weeks\" if pd.notna(row['program_length_orig']) else \"N/A\"\n",
    "        time_str = f\"{row['time_per_workout_orig']} minutes\" if pd.notna(row['time_per_workout_orig']) else \"N/A\"\n",
    "        display(Markdown(f\"**Program Length:** {length_str} | **Time per Workout:** {time_str}\"))\n",
    "        display(Markdown(f\"**Description:** {row['description']}\"))\n",
    "\n",
    "        program_exercises = ex_df_orig[ex_df_orig['title'] == row['title']].sort_values(by=['week', 'day'])\n",
    "        if not program_exercises.empty:\n",
    "            display(Markdown(\"**Exercises in this plan:**\"))\n",
    "            exercise_limit = 20\n",
    "            displayed_exercises = 0\n",
    "            for ex_index, ex_row in program_exercises.iterrows():\n",
    "                 if displayed_exercises >= exercise_limit:\n",
    "                     display(Markdown(\"  *... (additional exercises omitted for brevity)*\"))\n",
    "                     break\n",
    "                 display(Markdown(f\"  - *Week {int(ex_row['week'])}, Day {int(ex_row['day'])}:* {ex_row['exercise_name']} ({ex_row.get('sets', '-')} sets, {ex_row.get('reps', '-')} reps, Intensity: {ex_row.get('intensity', '-')})\"))\n",
    "                 displayed_exercises += 1\n",
    "        else:\n",
    "            display(Markdown(\"*No detailed exercises found for this program.*\"))\n",
    "        display(Markdown(\"---\"))\n",
    "\n",
    "    pd.reset_option('display.max_colwidth')\n",
    "    pd.reset_option('display.width')\n",
    "else:\n",
    "    print(\"No recommendations found for the given criteria using metadata clustering.\")"
   ]
  },
  {
   "cell_type": "code",
   "execution_count": null,
   "metadata": {},
   "outputs": [],
   "source": []
  }
 ],
 "metadata": {
  "kaggle": {
   "accelerator": "nvidiaTeslaT4",
   "dataSources": [
    {
     "datasetId": 7833070,
     "sourceId": 12419457,
     "sourceType": "datasetVersion"
    }
   ],
   "dockerImageVersionId": 31090,
   "isGpuEnabled": true,
   "isInternetEnabled": true,
   "language": "python",
   "sourceType": "notebook"
  },
  "kernelspec": {
   "display_name": "venv (3.12.3)",
   "language": "python",
   "name": "python3"
  },
  "language_info": {
   "codemirror_mode": {
    "name": "ipython",
    "version": 3
   },
   "file_extension": ".py",
   "mimetype": "text/x-python",
   "name": "python",
   "nbconvert_exporter": "python",
   "pygments_lexer": "ipython3",
   "version": "3.12.3"
  }
 },
 "nbformat": 4,
 "nbformat_minor": 4
}
